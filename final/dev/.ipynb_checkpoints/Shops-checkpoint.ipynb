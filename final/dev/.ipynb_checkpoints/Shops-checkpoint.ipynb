{
 "cells": [
  {
   "cell_type": "markdown",
   "id": "a026fe62",
   "metadata": {},
   "source": [
    "## Recommending Shops"
   ]
  },
  {
   "cell_type": "markdown",
   "id": "3c385f02",
   "metadata": {},
   "source": [
    "### Loading"
   ]
  },
  {
   "cell_type": "code",
   "execution_count": 1,
   "id": "8f697462",
   "metadata": {},
   "outputs": [],
   "source": [
    "import pandas as pd"
   ]
  },
  {
   "cell_type": "code",
   "execution_count": 2,
   "id": "19589a64",
   "metadata": {},
   "outputs": [],
   "source": [
    "users_df = pd.read_csv('users.csv')"
   ]
  },
  {
   "cell_type": "code",
   "execution_count": 3,
   "id": "e1d81fec",
   "metadata": {},
   "outputs": [],
   "source": [
    "shops_df = pd.read_csv('shops.csv')"
   ]
  },
  {
   "cell_type": "code",
   "execution_count": 4,
   "id": "924cc13c",
   "metadata": {},
   "outputs": [],
   "source": [
    "prods_df = pd.read_csv('products.csv')\n",
    "prods_df = prods_df.rename(columns={'shop_prouct_id': 'shop_product_id'})"
   ]
  },
  {
   "cell_type": "code",
   "execution_count": 5,
   "id": "661d4ce9",
   "metadata": {},
   "outputs": [],
   "source": [
    "orders_df = pd.read_csv('orders.csv')"
   ]
  },
  {
   "cell_type": "code",
   "execution_count": 6,
   "id": "dbf9034c",
   "metadata": {},
   "outputs": [],
   "source": [
    "cats_df = pd.read_csv('categories.csv')"
   ]
  },
  {
   "cell_type": "markdown",
   "id": "4d81aeb6",
   "metadata": {},
   "source": [
    "### Query"
   ]
  },
  {
   "cell_type": "code",
   "execution_count": 9,
   "id": "1bc2a416",
   "metadata": {},
   "outputs": [],
   "source": [
    "user_id = 894037"
   ]
  },
  {
   "cell_type": "code",
   "execution_count": 10,
   "id": "20f9f865",
   "metadata": {},
   "outputs": [
    {
     "data": {
      "text/html": [
       "<div>\n",
       "<style scoped>\n",
       "    .dataframe tbody tr th:only-of-type {\n",
       "        vertical-align: middle;\n",
       "    }\n",
       "\n",
       "    .dataframe tbody tr th {\n",
       "        vertical-align: top;\n",
       "    }\n",
       "\n",
       "    .dataframe thead th {\n",
       "        text-align: right;\n",
       "    }\n",
       "</style>\n",
       "<table border=\"1\" class=\"dataframe\">\n",
       "  <thead>\n",
       "    <tr style=\"text-align: right;\">\n",
       "      <th></th>\n",
       "      <th>id</th>\n",
       "      <th>user_address_id</th>\n",
       "      <th>gender</th>\n",
       "      <th>latitude</th>\n",
       "      <th>longitude</th>\n",
       "    </tr>\n",
       "  </thead>\n",
       "  <tbody>\n",
       "    <tr>\n",
       "      <th>225</th>\n",
       "      <td>894037</td>\n",
       "      <td>1493704</td>\n",
       "      <td>male</td>\n",
       "      <td>35.67495</td>\n",
       "      <td>51.3469</td>\n",
       "    </tr>\n",
       "  </tbody>\n",
       "</table>\n",
       "</div>"
      ],
      "text/plain": [
       "         id  user_address_id gender  latitude  longitude\n",
       "225  894037          1493704   male  35.67495    51.3469"
      ]
     },
     "execution_count": 10,
     "metadata": {},
     "output_type": "execute_result"
    }
   ],
   "source": [
    "users_df.loc[users_df['id'] == user_id]"
   ]
  },
  {
   "cell_type": "code",
   "execution_count": 11,
   "id": "213bd0c8",
   "metadata": {},
   "outputs": [
    {
     "data": {
      "text/html": [
       "<div>\n",
       "<style scoped>\n",
       "    .dataframe tbody tr th:only-of-type {\n",
       "        vertical-align: middle;\n",
       "    }\n",
       "\n",
       "    .dataframe tbody tr th {\n",
       "        vertical-align: top;\n",
       "    }\n",
       "\n",
       "    .dataframe thead th {\n",
       "        text-align: right;\n",
       "    }\n",
       "</style>\n",
       "<table border=\"1\" class=\"dataframe\">\n",
       "  <thead>\n",
       "    <tr style=\"text-align: right;\">\n",
       "      <th></th>\n",
       "      <th>user_id</th>\n",
       "      <th>user_address_id</th>\n",
       "      <th>shop_id</th>\n",
       "      <th>shop_product_id</th>\n",
       "      <th>order_id</th>\n",
       "      <th>order_item_id</th>\n",
       "      <th>order_shipment_id</th>\n",
       "      <th>order_status</th>\n",
       "      <th>order_payable_price</th>\n",
       "      <th>order_discount</th>\n",
       "      <th>order_shipping_cost_total</th>\n",
       "      <th>order_checkout_status</th>\n",
       "      <th>order_item_quantity</th>\n",
       "      <th>order_item_payable_price</th>\n",
       "      <th>order_item_discount</th>\n",
       "      <th>order_shipment_status</th>\n",
       "      <th>order_shipment_delivery_status</th>\n",
       "      <th>rate</th>\n",
       "      <th>tags</th>\n",
       "    </tr>\n",
       "  </thead>\n",
       "  <tbody>\n",
       "    <tr>\n",
       "      <th>2</th>\n",
       "      <td>894037</td>\n",
       "      <td>1493704</td>\n",
       "      <td>358</td>\n",
       "      <td>1196775</td>\n",
       "      <td>835307</td>\n",
       "      <td>2453495</td>\n",
       "      <td>790925</td>\n",
       "      <td>full_delivered</td>\n",
       "      <td>305000</td>\n",
       "      <td>225000</td>\n",
       "      <td>0</td>\n",
       "      <td>complete_paid</td>\n",
       "      <td>2</td>\n",
       "      <td>190248</td>\n",
       "      <td>124752</td>\n",
       "      <td>delivered</td>\n",
       "      <td>delivered</td>\n",
       "      <td>5</td>\n",
       "      <td>[1, 2, 3, 4, 11]</td>\n",
       "    </tr>\n",
       "    <tr>\n",
       "      <th>3</th>\n",
       "      <td>894037</td>\n",
       "      <td>1493704</td>\n",
       "      <td>358</td>\n",
       "      <td>1235647</td>\n",
       "      <td>835307</td>\n",
       "      <td>2453496</td>\n",
       "      <td>790925</td>\n",
       "      <td>full_delivered</td>\n",
       "      <td>305000</td>\n",
       "      <td>225000</td>\n",
       "      <td>0</td>\n",
       "      <td>complete_paid</td>\n",
       "      <td>1</td>\n",
       "      <td>114752</td>\n",
       "      <td>100248</td>\n",
       "      <td>delivered</td>\n",
       "      <td>delivered</td>\n",
       "      <td>5</td>\n",
       "      <td>[1, 2, 3, 4, 11]</td>\n",
       "    </tr>\n",
       "  </tbody>\n",
       "</table>\n",
       "</div>"
      ],
      "text/plain": [
       "   user_id  user_address_id  shop_id  shop_product_id  order_id  \\\n",
       "2   894037          1493704      358          1196775    835307   \n",
       "3   894037          1493704      358          1235647    835307   \n",
       "\n",
       "   order_item_id  order_shipment_id    order_status  order_payable_price  \\\n",
       "2        2453495             790925  full_delivered               305000   \n",
       "3        2453496             790925  full_delivered               305000   \n",
       "\n",
       "   order_discount  order_shipping_cost_total order_checkout_status  \\\n",
       "2          225000                          0         complete_paid   \n",
       "3          225000                          0         complete_paid   \n",
       "\n",
       "   order_item_quantity  order_item_payable_price  order_item_discount  \\\n",
       "2                    2                    190248               124752   \n",
       "3                    1                    114752               100248   \n",
       "\n",
       "  order_shipment_status order_shipment_delivery_status  rate              tags  \n",
       "2             delivered                      delivered     5  [1, 2, 3, 4, 11]  \n",
       "3             delivered                      delivered     5  [1, 2, 3, 4, 11]  "
      ]
     },
     "execution_count": 11,
     "metadata": {},
     "output_type": "execute_result"
    }
   ],
   "source": [
    "orders_df.loc[orders_df['user_id'] == user_id]"
   ]
  },
  {
   "cell_type": "code",
   "execution_count": 12,
   "id": "d5f097b3",
   "metadata": {
    "scrolled": true
   },
   "outputs": [
    {
     "data": {
      "text/html": [
       "<div>\n",
       "<style scoped>\n",
       "    .dataframe tbody tr th:only-of-type {\n",
       "        vertical-align: middle;\n",
       "    }\n",
       "\n",
       "    .dataframe tbody tr th {\n",
       "        vertical-align: top;\n",
       "    }\n",
       "\n",
       "    .dataframe thead th {\n",
       "        text-align: right;\n",
       "    }\n",
       "</style>\n",
       "<table border=\"1\" class=\"dataframe\">\n",
       "  <thead>\n",
       "    <tr style=\"text-align: right;\">\n",
       "      <th></th>\n",
       "      <th>shop_id</th>\n",
       "      <th>name</th>\n",
       "      <th>has_available_products</th>\n",
       "      <th>available_products_count</th>\n",
       "      <th>is_open</th>\n",
       "      <th>rate</th>\n",
       "      <th>rate_count</th>\n",
       "      <th>rate_tags</th>\n",
       "      <th>preparation_time</th>\n",
       "      <th>cart_close_limit</th>\n",
       "      <th>service_radius</th>\n",
       "      <th>service_radius_critical</th>\n",
       "      <th>latitude</th>\n",
       "      <th>longitude</th>\n",
       "    </tr>\n",
       "  </thead>\n",
       "  <tbody>\n",
       "    <tr>\n",
       "      <th>0</th>\n",
       "      <td>1</td>\n",
       "      <td>جت‌ مارت | میرداماد</td>\n",
       "      <td>1</td>\n",
       "      <td>1283</td>\n",
       "      <td>1</td>\n",
       "      <td>4.492411</td>\n",
       "      <td>8960</td>\n",
       "      <td>{\"1\":6781,\"4\":5247,\"2\":4702,\"3\":4546,\"11\":2735...</td>\n",
       "      <td>35</td>\n",
       "      <td>400000</td>\n",
       "      <td>3</td>\n",
       "      <td>1</td>\n",
       "      <td>35.76115</td>\n",
       "      <td>51.42338</td>\n",
       "    </tr>\n",
       "    <tr>\n",
       "      <th>1</th>\n",
       "      <td>6</td>\n",
       "      <td>یاران دریان دادمان</td>\n",
       "      <td>1</td>\n",
       "      <td>1597</td>\n",
       "      <td>1</td>\n",
       "      <td>3.270781</td>\n",
       "      <td>794</td>\n",
       "      <td>{\"1\":327,\"4\":282,\"6\":281,\"3\":206,\"2\":170,\"11\":...</td>\n",
       "      <td>35</td>\n",
       "      <td>350000</td>\n",
       "      <td>3</td>\n",
       "      <td>2</td>\n",
       "      <td>35.76455</td>\n",
       "      <td>51.35117</td>\n",
       "    </tr>\n",
       "    <tr>\n",
       "      <th>2</th>\n",
       "      <td>8</td>\n",
       "      <td>یاران دریان لوکس | نیاوران</td>\n",
       "      <td>1</td>\n",
       "      <td>3181</td>\n",
       "      <td>1</td>\n",
       "      <td>4.174265</td>\n",
       "      <td>987</td>\n",
       "      <td>{\"1\":733,\"4\":463,\"3\":324,\"11\":232,\"2\":231,\"14\"...</td>\n",
       "      <td>35</td>\n",
       "      <td>350000</td>\n",
       "      <td>3</td>\n",
       "      <td>1</td>\n",
       "      <td>35.81390</td>\n",
       "      <td>51.46145</td>\n",
       "    </tr>\n",
       "    <tr>\n",
       "      <th>3</th>\n",
       "      <td>10</td>\n",
       "      <td>جت‌ مارت | تهران‌پارس</td>\n",
       "      <td>1</td>\n",
       "      <td>1042</td>\n",
       "      <td>1</td>\n",
       "      <td>4.473160</td>\n",
       "      <td>10041</td>\n",
       "      <td>{\"1\":7663,\"4\":6192,\"3\":5441,\"2\":5125,\"11\":3302...</td>\n",
       "      <td>35</td>\n",
       "      <td>350000</td>\n",
       "      <td>4</td>\n",
       "      <td>2</td>\n",
       "      <td>35.74524</td>\n",
       "      <td>51.52673</td>\n",
       "    </tr>\n",
       "    <tr>\n",
       "      <th>4</th>\n",
       "      <td>11</td>\n",
       "      <td>جت مارت | کاشانی</td>\n",
       "      <td>1</td>\n",
       "      <td>1194</td>\n",
       "      <td>1</td>\n",
       "      <td>4.475088</td>\n",
       "      <td>12263</td>\n",
       "      <td>{\"1\":9133,\"4\":7814,\"3\":6063,\"2\":5620,\"11\":3841...</td>\n",
       "      <td>35</td>\n",
       "      <td>350000</td>\n",
       "      <td>3</td>\n",
       "      <td>1</td>\n",
       "      <td>35.73002</td>\n",
       "      <td>51.31180</td>\n",
       "    </tr>\n",
       "  </tbody>\n",
       "</table>\n",
       "</div>"
      ],
      "text/plain": [
       "   shop_id                        name  has_available_products  \\\n",
       "0        1         جت‌ مارت | میرداماد                       1   \n",
       "1        6          یاران دریان دادمان                       1   \n",
       "2        8  یاران دریان لوکس | نیاوران                       1   \n",
       "3       10       جت‌ مارت | تهران‌پارس                       1   \n",
       "4       11            جت مارت | کاشانی                       1   \n",
       "\n",
       "   available_products_count  is_open      rate  rate_count  \\\n",
       "0                      1283        1  4.492411        8960   \n",
       "1                      1597        1  3.270781         794   \n",
       "2                      3181        1  4.174265         987   \n",
       "3                      1042        1  4.473160       10041   \n",
       "4                      1194        1  4.475088       12263   \n",
       "\n",
       "                                           rate_tags  preparation_time  \\\n",
       "0  {\"1\":6781,\"4\":5247,\"2\":4702,\"3\":4546,\"11\":2735...                35   \n",
       "1  {\"1\":327,\"4\":282,\"6\":281,\"3\":206,\"2\":170,\"11\":...                35   \n",
       "2  {\"1\":733,\"4\":463,\"3\":324,\"11\":232,\"2\":231,\"14\"...                35   \n",
       "3  {\"1\":7663,\"4\":6192,\"3\":5441,\"2\":5125,\"11\":3302...                35   \n",
       "4  {\"1\":9133,\"4\":7814,\"3\":6063,\"2\":5620,\"11\":3841...                35   \n",
       "\n",
       "   cart_close_limit  service_radius  service_radius_critical  latitude  \\\n",
       "0            400000               3                        1  35.76115   \n",
       "1            350000               3                        2  35.76455   \n",
       "2            350000               3                        1  35.81390   \n",
       "3            350000               4                        2  35.74524   \n",
       "4            350000               3                        1  35.73002   \n",
       "\n",
       "   longitude  \n",
       "0   51.42338  \n",
       "1   51.35117  \n",
       "2   51.46145  \n",
       "3   51.52673  \n",
       "4   51.31180  "
      ]
     },
     "execution_count": 12,
     "metadata": {},
     "output_type": "execute_result"
    }
   ],
   "source": [
    "shops_df.head()"
   ]
  },
  {
   "cell_type": "markdown",
   "id": "535e684c",
   "metadata": {},
   "source": [
    "### Filter"
   ]
  },
  {
   "cell_type": "code",
   "execution_count": 13,
   "id": "65a75001",
   "metadata": {},
   "outputs": [],
   "source": [
    "import geopy.distance"
   ]
  },
  {
   "cell_type": "code",
   "execution_count": 14,
   "id": "6dc87047",
   "metadata": {},
   "outputs": [],
   "source": [
    "user_lat = users_df.loc[users_df['id'] == user_id]['latitude'].tolist()[0]\n",
    "user_long = users_df.loc[users_df['id'] == user_id]['longitude'].tolist()[0]"
   ]
  },
  {
   "cell_type": "code",
   "execution_count": 15,
   "id": "056332e6",
   "metadata": {},
   "outputs": [
    {
     "data": {
      "text/plain": [
       "(35.67495, 51.3469)"
      ]
     },
     "execution_count": 15,
     "metadata": {},
     "output_type": "execute_result"
    }
   ],
   "source": [
    "user_lat, user_long"
   ]
  },
  {
   "cell_type": "code",
   "execution_count": 16,
   "id": "7decbcc0",
   "metadata": {},
   "outputs": [],
   "source": [
    "shops_lat = shops_df.latitude\n",
    "shops_long = shops_df.longitude"
   ]
  },
  {
   "cell_type": "code",
   "execution_count": 17,
   "id": "9e69b252",
   "metadata": {},
   "outputs": [],
   "source": [
    "dists = []\n",
    "for s_lat, s_long in zip(shops_lat, shops_long):\n",
    "    dist = geopy.distance.distance((s_lat, s_long), (user_lat, user_long)).km\n",
    "    dists.append(dist)"
   ]
  },
  {
   "cell_type": "code",
   "execution_count": 18,
   "id": "9eb840c9",
   "metadata": {},
   "outputs": [],
   "source": [
    "shops_df['distance'] = dists"
   ]
  },
  {
   "cell_type": "code",
   "execution_count": 19,
   "id": "fe6b30e5",
   "metadata": {},
   "outputs": [],
   "source": [
    "selected_shops_df = shops_df.loc[shops_df['distance'] < shops_df['service_radius']]"
   ]
  },
  {
   "cell_type": "code",
   "execution_count": 20,
   "id": "f1a1ecb9",
   "metadata": {},
   "outputs": [],
   "source": [
    "selected_shops_df = selected_shops_df.loc[selected_shops_df['has_available_products'] == 1]"
   ]
  },
  {
   "cell_type": "code",
   "execution_count": 21,
   "id": "ae120e3b",
   "metadata": {},
   "outputs": [],
   "source": [
    "selected_shops_df = selected_shops_df.loc[selected_shops_df['is_open'] == 1]"
   ]
  },
  {
   "cell_type": "code",
   "execution_count": 22,
   "id": "105e1430",
   "metadata": {},
   "outputs": [
    {
     "data": {
      "text/html": [
       "<div>\n",
       "<style scoped>\n",
       "    .dataframe tbody tr th:only-of-type {\n",
       "        vertical-align: middle;\n",
       "    }\n",
       "\n",
       "    .dataframe tbody tr th {\n",
       "        vertical-align: top;\n",
       "    }\n",
       "\n",
       "    .dataframe thead th {\n",
       "        text-align: right;\n",
       "    }\n",
       "</style>\n",
       "<table border=\"1\" class=\"dataframe\">\n",
       "  <thead>\n",
       "    <tr style=\"text-align: right;\">\n",
       "      <th></th>\n",
       "      <th>shop_id</th>\n",
       "      <th>name</th>\n",
       "      <th>has_available_products</th>\n",
       "      <th>available_products_count</th>\n",
       "      <th>is_open</th>\n",
       "      <th>rate</th>\n",
       "      <th>rate_count</th>\n",
       "      <th>rate_tags</th>\n",
       "      <th>preparation_time</th>\n",
       "      <th>cart_close_limit</th>\n",
       "      <th>service_radius</th>\n",
       "      <th>service_radius_critical</th>\n",
       "      <th>latitude</th>\n",
       "      <th>longitude</th>\n",
       "      <th>distance</th>\n",
       "    </tr>\n",
       "  </thead>\n",
       "  <tbody>\n",
       "    <tr>\n",
       "      <th>55</th>\n",
       "      <td>321</td>\n",
       "      <td>هایمارت سوپر رها</td>\n",
       "      <td>1</td>\n",
       "      <td>597</td>\n",
       "      <td>1</td>\n",
       "      <td>3.484043</td>\n",
       "      <td>376</td>\n",
       "      <td>{\"4\":178,\"1\":164,\"6\":128,\"3\":123,\"2\":105,\"11\":...</td>\n",
       "      <td>35</td>\n",
       "      <td>350000</td>\n",
       "      <td>3</td>\n",
       "      <td>2</td>\n",
       "      <td>35.69076</td>\n",
       "      <td>51.36127</td>\n",
       "      <td>2.183859</td>\n",
       "    </tr>\n",
       "    <tr>\n",
       "      <th>56</th>\n",
       "      <td>323</td>\n",
       "      <td>هایمارت فروشگاه حسنوند</td>\n",
       "      <td>1</td>\n",
       "      <td>738</td>\n",
       "      <td>1</td>\n",
       "      <td>3.268456</td>\n",
       "      <td>298</td>\n",
       "      <td>{\"4\":140,\"1\":117,\"6\":102,\"3\":85,\"2\":68,\"14\":68...</td>\n",
       "      <td>35</td>\n",
       "      <td>350000</td>\n",
       "      <td>3</td>\n",
       "      <td>2</td>\n",
       "      <td>35.68830</td>\n",
       "      <td>51.37029</td>\n",
       "      <td>2.584046</td>\n",
       "    </tr>\n",
       "    <tr>\n",
       "      <th>57</th>\n",
       "      <td>324</td>\n",
       "      <td>هایمارت فروشگاه مایلی</td>\n",
       "      <td>1</td>\n",
       "      <td>819</td>\n",
       "      <td>1</td>\n",
       "      <td>3.750515</td>\n",
       "      <td>485</td>\n",
       "      <td>{\"4\":281,\"1\":257,\"3\":189,\"2\":172,\"11\":147,\"6\":...</td>\n",
       "      <td>35</td>\n",
       "      <td>350000</td>\n",
       "      <td>3</td>\n",
       "      <td>2</td>\n",
       "      <td>35.68780</td>\n",
       "      <td>51.36693</td>\n",
       "      <td>2.306622</td>\n",
       "    </tr>\n",
       "    <tr>\n",
       "      <th>62</th>\n",
       "      <td>358</td>\n",
       "      <td>جت‌ مارت | جی</td>\n",
       "      <td>1</td>\n",
       "      <td>978</td>\n",
       "      <td>1</td>\n",
       "      <td>4.393332</td>\n",
       "      <td>7889</td>\n",
       "      <td>{\"1\":5473,\"4\":5290,\"3\":4076,\"2\":4026,\"11\":2398...</td>\n",
       "      <td>35</td>\n",
       "      <td>350000</td>\n",
       "      <td>4</td>\n",
       "      <td>2</td>\n",
       "      <td>35.67568</td>\n",
       "      <td>51.35468</td>\n",
       "      <td>0.708979</td>\n",
       "    </tr>\n",
       "    <tr>\n",
       "      <th>82</th>\n",
       "      <td>451</td>\n",
       "      <td>نان کارون | تافتون</td>\n",
       "      <td>1</td>\n",
       "      <td>4</td>\n",
       "      <td>1</td>\n",
       "      <td>3.635135</td>\n",
       "      <td>296</td>\n",
       "      <td>{\"4\":151,\"1\":138,\"3\":131,\"2\":125,\"6\":106,\"11\":...</td>\n",
       "      <td>35</td>\n",
       "      <td>150000</td>\n",
       "      <td>3</td>\n",
       "      <td>2</td>\n",
       "      <td>35.68315</td>\n",
       "      <td>51.36729</td>\n",
       "      <td>2.057901</td>\n",
       "    </tr>\n",
       "    <tr>\n",
       "      <th>108</th>\n",
       "      <td>615</td>\n",
       "      <td>هایمارت کوثری</td>\n",
       "      <td>1</td>\n",
       "      <td>1876</td>\n",
       "      <td>1</td>\n",
       "      <td>3.856306</td>\n",
       "      <td>2220</td>\n",
       "      <td>{\"4\":1300,\"1\":1216,\"3\":976,\"2\":916,\"11\":831,\"6...</td>\n",
       "      <td>35</td>\n",
       "      <td>350000</td>\n",
       "      <td>3</td>\n",
       "      <td>1</td>\n",
       "      <td>35.68121</td>\n",
       "      <td>51.36756</td>\n",
       "      <td>1.995127</td>\n",
       "    </tr>\n",
       "    <tr>\n",
       "      <th>111</th>\n",
       "      <td>664</td>\n",
       "      <td>دیلی مارکت 1091 | خیابان هاشمی</td>\n",
       "      <td>1</td>\n",
       "      <td>832</td>\n",
       "      <td>1</td>\n",
       "      <td>2.926804</td>\n",
       "      <td>970</td>\n",
       "      <td>{\"6\":480,\"4\":384,\"1\":288,\"3\":239,\"2\":226,\"11\":...</td>\n",
       "      <td>35</td>\n",
       "      <td>500000</td>\n",
       "      <td>3</td>\n",
       "      <td>1</td>\n",
       "      <td>35.68909</td>\n",
       "      <td>51.35557</td>\n",
       "      <td>1.754240</td>\n",
       "    </tr>\n",
       "    <tr>\n",
       "      <th>205</th>\n",
       "      <td>970</td>\n",
       "      <td>هفت دریا</td>\n",
       "      <td>1</td>\n",
       "      <td>134</td>\n",
       "      <td>1</td>\n",
       "      <td>1.000000</td>\n",
       "      <td>1</td>\n",
       "      <td>{\"1\":1,\"4\":1,\"11\":1,\"14\":1}</td>\n",
       "      <td>80</td>\n",
       "      <td>300000</td>\n",
       "      <td>3</td>\n",
       "      <td>3</td>\n",
       "      <td>35.65780</td>\n",
       "      <td>51.32538</td>\n",
       "      <td>2.723474</td>\n",
       "    </tr>\n",
       "    <tr>\n",
       "      <th>348</th>\n",
       "      <td>1545</td>\n",
       "      <td>داروخانه نیوا مکمل</td>\n",
       "      <td>1</td>\n",
       "      <td>79</td>\n",
       "      <td>1</td>\n",
       "      <td>5.000000</td>\n",
       "      <td>3</td>\n",
       "      <td>{\"1\":3,\"4\":3,\"2\":1,\"3\":1}</td>\n",
       "      <td>110</td>\n",
       "      <td>300000</td>\n",
       "      <td>3</td>\n",
       "      <td>3</td>\n",
       "      <td>35.65775</td>\n",
       "      <td>51.36266</td>\n",
       "      <td>2.382878</td>\n",
       "    </tr>\n",
       "    <tr>\n",
       "      <th>364</th>\n",
       "      <td>1649</td>\n",
       "      <td>فروشگاه محسن | امام خمینی</td>\n",
       "      <td>1</td>\n",
       "      <td>279</td>\n",
       "      <td>1</td>\n",
       "      <td>4.857143</td>\n",
       "      <td>7</td>\n",
       "      <td>{\"4\":6,\"1\":4,\"2\":3,\"11\":2,\"3\":2}</td>\n",
       "      <td>35</td>\n",
       "      <td>2000000</td>\n",
       "      <td>3</td>\n",
       "      <td>3</td>\n",
       "      <td>35.68650</td>\n",
       "      <td>51.35728</td>\n",
       "      <td>1.589094</td>\n",
       "    </tr>\n",
       "    <tr>\n",
       "      <th>367</th>\n",
       "      <td>1653</td>\n",
       "      <td>فروشگاه محسن | یافت آباد</td>\n",
       "      <td>1</td>\n",
       "      <td>340</td>\n",
       "      <td>1</td>\n",
       "      <td>4.100000</td>\n",
       "      <td>20</td>\n",
       "      <td>{\"4\":14,\"1\":13,\"11\":13,\"2\":12,\"3\":12,\"14\":5,\"6...</td>\n",
       "      <td>35</td>\n",
       "      <td>2000000</td>\n",
       "      <td>3</td>\n",
       "      <td>3</td>\n",
       "      <td>35.66050</td>\n",
       "      <td>51.33875</td>\n",
       "      <td>1.764929</td>\n",
       "    </tr>\n",
       "    <tr>\n",
       "      <th>373</th>\n",
       "      <td>1682</td>\n",
       "      <td>فروشگاه محسن | شمشیری</td>\n",
       "      <td>1</td>\n",
       "      <td>356</td>\n",
       "      <td>1</td>\n",
       "      <td>3.222222</td>\n",
       "      <td>9</td>\n",
       "      <td>{\"6\":7,\"11\":4,\"2\":3,\"3\":3,\"4\":3,\"1\":2,\"7\":1,\"9...</td>\n",
       "      <td>35</td>\n",
       "      <td>2000000</td>\n",
       "      <td>3</td>\n",
       "      <td>3</td>\n",
       "      <td>35.67400</td>\n",
       "      <td>51.34431</td>\n",
       "      <td>0.257082</td>\n",
       "    </tr>\n",
       "  </tbody>\n",
       "</table>\n",
       "</div>"
      ],
      "text/plain": [
       "     shop_id                            name  has_available_products  \\\n",
       "55       321                هایمارت سوپر رها                       1   \n",
       "56       323          هایمارت فروشگاه حسنوند                       1   \n",
       "57       324           هایمارت فروشگاه مایلی                       1   \n",
       "62       358                   جت‌ مارت | جی                       1   \n",
       "82       451              نان کارون | تافتون                       1   \n",
       "108      615                   هایمارت کوثری                       1   \n",
       "111      664  دیلی مارکت 1091 | خیابان هاشمی                       1   \n",
       "205      970                        هفت دریا                       1   \n",
       "348     1545              داروخانه نیوا مکمل                       1   \n",
       "364     1649       فروشگاه محسن | امام خمینی                       1   \n",
       "367     1653        فروشگاه محسن | یافت آباد                       1   \n",
       "373     1682           فروشگاه محسن | شمشیری                       1   \n",
       "\n",
       "     available_products_count  is_open      rate  rate_count  \\\n",
       "55                        597        1  3.484043         376   \n",
       "56                        738        1  3.268456         298   \n",
       "57                        819        1  3.750515         485   \n",
       "62                        978        1  4.393332        7889   \n",
       "82                          4        1  3.635135         296   \n",
       "108                      1876        1  3.856306        2220   \n",
       "111                       832        1  2.926804         970   \n",
       "205                       134        1  1.000000           1   \n",
       "348                        79        1  5.000000           3   \n",
       "364                       279        1  4.857143           7   \n",
       "367                       340        1  4.100000          20   \n",
       "373                       356        1  3.222222           9   \n",
       "\n",
       "                                             rate_tags  preparation_time  \\\n",
       "55   {\"4\":178,\"1\":164,\"6\":128,\"3\":123,\"2\":105,\"11\":...                35   \n",
       "56   {\"4\":140,\"1\":117,\"6\":102,\"3\":85,\"2\":68,\"14\":68...                35   \n",
       "57   {\"4\":281,\"1\":257,\"3\":189,\"2\":172,\"11\":147,\"6\":...                35   \n",
       "62   {\"1\":5473,\"4\":5290,\"3\":4076,\"2\":4026,\"11\":2398...                35   \n",
       "82   {\"4\":151,\"1\":138,\"3\":131,\"2\":125,\"6\":106,\"11\":...                35   \n",
       "108  {\"4\":1300,\"1\":1216,\"3\":976,\"2\":916,\"11\":831,\"6...                35   \n",
       "111  {\"6\":480,\"4\":384,\"1\":288,\"3\":239,\"2\":226,\"11\":...                35   \n",
       "205                        {\"1\":1,\"4\":1,\"11\":1,\"14\":1}                80   \n",
       "348                          {\"1\":3,\"4\":3,\"2\":1,\"3\":1}               110   \n",
       "364                   {\"4\":6,\"1\":4,\"2\":3,\"11\":2,\"3\":2}                35   \n",
       "367  {\"4\":14,\"1\":13,\"11\":13,\"2\":12,\"3\":12,\"14\":5,\"6...                35   \n",
       "373  {\"6\":7,\"11\":4,\"2\":3,\"3\":3,\"4\":3,\"1\":2,\"7\":1,\"9...                35   \n",
       "\n",
       "     cart_close_limit  service_radius  service_radius_critical  latitude  \\\n",
       "55             350000               3                        2  35.69076   \n",
       "56             350000               3                        2  35.68830   \n",
       "57             350000               3                        2  35.68780   \n",
       "62             350000               4                        2  35.67568   \n",
       "82             150000               3                        2  35.68315   \n",
       "108            350000               3                        1  35.68121   \n",
       "111            500000               3                        1  35.68909   \n",
       "205            300000               3                        3  35.65780   \n",
       "348            300000               3                        3  35.65775   \n",
       "364           2000000               3                        3  35.68650   \n",
       "367           2000000               3                        3  35.66050   \n",
       "373           2000000               3                        3  35.67400   \n",
       "\n",
       "     longitude  distance  \n",
       "55    51.36127  2.183859  \n",
       "56    51.37029  2.584046  \n",
       "57    51.36693  2.306622  \n",
       "62    51.35468  0.708979  \n",
       "82    51.36729  2.057901  \n",
       "108   51.36756  1.995127  \n",
       "111   51.35557  1.754240  \n",
       "205   51.32538  2.723474  \n",
       "348   51.36266  2.382878  \n",
       "364   51.35728  1.589094  \n",
       "367   51.33875  1.764929  \n",
       "373   51.34431  0.257082  "
      ]
     },
     "execution_count": 22,
     "metadata": {},
     "output_type": "execute_result"
    }
   ],
   "source": [
    "selected_shops_df"
   ]
  },
  {
   "cell_type": "markdown",
   "id": "29c1b61a",
   "metadata": {},
   "source": [
    "### Blind Score"
   ]
  },
  {
   "cell_type": "code",
   "execution_count": 23,
   "id": "c66e2db9",
   "metadata": {},
   "outputs": [],
   "source": [
    "top_rated_shops_df = selected_shops_df[['shop_id', 'rate']].sort_values(by='rate', ascending=False).reset_index()\n",
    "top_rated_shops_df = top_rated_shops_df.drop('index', 1)"
   ]
  },
  {
   "cell_type": "code",
   "execution_count": 26,
   "id": "34dd7d78",
   "metadata": {},
   "outputs": [
    {
     "data": {
      "text/html": [
       "<div>\n",
       "<style scoped>\n",
       "    .dataframe tbody tr th:only-of-type {\n",
       "        vertical-align: middle;\n",
       "    }\n",
       "\n",
       "    .dataframe tbody tr th {\n",
       "        vertical-align: top;\n",
       "    }\n",
       "\n",
       "    .dataframe thead th {\n",
       "        text-align: right;\n",
       "    }\n",
       "</style>\n",
       "<table border=\"1\" class=\"dataframe\">\n",
       "  <thead>\n",
       "    <tr style=\"text-align: right;\">\n",
       "      <th></th>\n",
       "      <th>shop_id</th>\n",
       "      <th>rate</th>\n",
       "    </tr>\n",
       "  </thead>\n",
       "  <tbody>\n",
       "    <tr>\n",
       "      <th>0</th>\n",
       "      <td>1545</td>\n",
       "      <td>5.000000</td>\n",
       "    </tr>\n",
       "    <tr>\n",
       "      <th>1</th>\n",
       "      <td>1649</td>\n",
       "      <td>4.857143</td>\n",
       "    </tr>\n",
       "    <tr>\n",
       "      <th>2</th>\n",
       "      <td>358</td>\n",
       "      <td>4.393332</td>\n",
       "    </tr>\n",
       "    <tr>\n",
       "      <th>3</th>\n",
       "      <td>1653</td>\n",
       "      <td>4.100000</td>\n",
       "    </tr>\n",
       "    <tr>\n",
       "      <th>4</th>\n",
       "      <td>615</td>\n",
       "      <td>3.856306</td>\n",
       "    </tr>\n",
       "    <tr>\n",
       "      <th>5</th>\n",
       "      <td>324</td>\n",
       "      <td>3.750515</td>\n",
       "    </tr>\n",
       "    <tr>\n",
       "      <th>6</th>\n",
       "      <td>451</td>\n",
       "      <td>3.635135</td>\n",
       "    </tr>\n",
       "    <tr>\n",
       "      <th>7</th>\n",
       "      <td>321</td>\n",
       "      <td>3.484043</td>\n",
       "    </tr>\n",
       "    <tr>\n",
       "      <th>8</th>\n",
       "      <td>323</td>\n",
       "      <td>3.268456</td>\n",
       "    </tr>\n",
       "    <tr>\n",
       "      <th>9</th>\n",
       "      <td>1682</td>\n",
       "      <td>3.222222</td>\n",
       "    </tr>\n",
       "    <tr>\n",
       "      <th>10</th>\n",
       "      <td>664</td>\n",
       "      <td>2.926804</td>\n",
       "    </tr>\n",
       "    <tr>\n",
       "      <th>11</th>\n",
       "      <td>970</td>\n",
       "      <td>1.000000</td>\n",
       "    </tr>\n",
       "  </tbody>\n",
       "</table>\n",
       "</div>"
      ],
      "text/plain": [
       "    shop_id      rate\n",
       "0      1545  5.000000\n",
       "1      1649  4.857143\n",
       "2       358  4.393332\n",
       "3      1653  4.100000\n",
       "4       615  3.856306\n",
       "5       324  3.750515\n",
       "6       451  3.635135\n",
       "7       321  3.484043\n",
       "8       323  3.268456\n",
       "9      1682  3.222222\n",
       "10      664  2.926804\n",
       "11      970  1.000000"
      ]
     },
     "execution_count": 26,
     "metadata": {},
     "output_type": "execute_result"
    }
   ],
   "source": [
    "top_rated_shops_df"
   ]
  },
  {
   "cell_type": "code",
   "execution_count": 27,
   "id": "bf20dc83",
   "metadata": {},
   "outputs": [],
   "source": [
    "shop_ids = top_rated_shops_df.shop_id.tolist()"
   ]
  },
  {
   "cell_type": "code",
   "execution_count": 28,
   "id": "cd839470",
   "metadata": {},
   "outputs": [
    {
     "data": {
      "text/plain": [
       "[1545, 1649, 358, 1653, 615, 324, 451, 321, 323, 1682, 664, 970]"
      ]
     },
     "execution_count": 28,
     "metadata": {},
     "output_type": "execute_result"
    }
   ],
   "source": [
    "shop_ids"
   ]
  },
  {
   "cell_type": "markdown",
   "id": "22d2217e",
   "metadata": {},
   "source": [
    "### User Specific Score"
   ]
  },
  {
   "cell_type": "code",
   "execution_count": 29,
   "id": "a1e3f76c",
   "metadata": {},
   "outputs": [],
   "source": [
    "# top rated shops by the user"
   ]
  },
  {
   "cell_type": "code",
   "execution_count": 30,
   "id": "57dd81cd",
   "metadata": {},
   "outputs": [],
   "source": [
    "user_orders_df = orders_df.loc[orders_df.user_id == user_id]"
   ]
  },
  {
   "cell_type": "code",
   "execution_count": 31,
   "id": "0f541c37",
   "metadata": {},
   "outputs": [
    {
     "data": {
      "text/html": [
       "<div>\n",
       "<style scoped>\n",
       "    .dataframe tbody tr th:only-of-type {\n",
       "        vertical-align: middle;\n",
       "    }\n",
       "\n",
       "    .dataframe tbody tr th {\n",
       "        vertical-align: top;\n",
       "    }\n",
       "\n",
       "    .dataframe thead th {\n",
       "        text-align: right;\n",
       "    }\n",
       "</style>\n",
       "<table border=\"1\" class=\"dataframe\">\n",
       "  <thead>\n",
       "    <tr style=\"text-align: right;\">\n",
       "      <th></th>\n",
       "      <th>user_id</th>\n",
       "      <th>user_address_id</th>\n",
       "      <th>shop_id</th>\n",
       "      <th>shop_product_id</th>\n",
       "      <th>order_id</th>\n",
       "      <th>order_item_id</th>\n",
       "      <th>order_shipment_id</th>\n",
       "      <th>order_status</th>\n",
       "      <th>order_payable_price</th>\n",
       "      <th>order_discount</th>\n",
       "      <th>order_shipping_cost_total</th>\n",
       "      <th>order_checkout_status</th>\n",
       "      <th>order_item_quantity</th>\n",
       "      <th>order_item_payable_price</th>\n",
       "      <th>order_item_discount</th>\n",
       "      <th>order_shipment_status</th>\n",
       "      <th>order_shipment_delivery_status</th>\n",
       "      <th>rate</th>\n",
       "      <th>tags</th>\n",
       "    </tr>\n",
       "  </thead>\n",
       "  <tbody>\n",
       "    <tr>\n",
       "      <th>2</th>\n",
       "      <td>894037</td>\n",
       "      <td>1493704</td>\n",
       "      <td>358</td>\n",
       "      <td>1196775</td>\n",
       "      <td>835307</td>\n",
       "      <td>2453495</td>\n",
       "      <td>790925</td>\n",
       "      <td>full_delivered</td>\n",
       "      <td>305000</td>\n",
       "      <td>225000</td>\n",
       "      <td>0</td>\n",
       "      <td>complete_paid</td>\n",
       "      <td>2</td>\n",
       "      <td>190248</td>\n",
       "      <td>124752</td>\n",
       "      <td>delivered</td>\n",
       "      <td>delivered</td>\n",
       "      <td>5</td>\n",
       "      <td>[1, 2, 3, 4, 11]</td>\n",
       "    </tr>\n",
       "    <tr>\n",
       "      <th>3</th>\n",
       "      <td>894037</td>\n",
       "      <td>1493704</td>\n",
       "      <td>358</td>\n",
       "      <td>1235647</td>\n",
       "      <td>835307</td>\n",
       "      <td>2453496</td>\n",
       "      <td>790925</td>\n",
       "      <td>full_delivered</td>\n",
       "      <td>305000</td>\n",
       "      <td>225000</td>\n",
       "      <td>0</td>\n",
       "      <td>complete_paid</td>\n",
       "      <td>1</td>\n",
       "      <td>114752</td>\n",
       "      <td>100248</td>\n",
       "      <td>delivered</td>\n",
       "      <td>delivered</td>\n",
       "      <td>5</td>\n",
       "      <td>[1, 2, 3, 4, 11]</td>\n",
       "    </tr>\n",
       "  </tbody>\n",
       "</table>\n",
       "</div>"
      ],
      "text/plain": [
       "   user_id  user_address_id  shop_id  shop_product_id  order_id  \\\n",
       "2   894037          1493704      358          1196775    835307   \n",
       "3   894037          1493704      358          1235647    835307   \n",
       "\n",
       "   order_item_id  order_shipment_id    order_status  order_payable_price  \\\n",
       "2        2453495             790925  full_delivered               305000   \n",
       "3        2453496             790925  full_delivered               305000   \n",
       "\n",
       "   order_discount  order_shipping_cost_total order_checkout_status  \\\n",
       "2          225000                          0         complete_paid   \n",
       "3          225000                          0         complete_paid   \n",
       "\n",
       "   order_item_quantity  order_item_payable_price  order_item_discount  \\\n",
       "2                    2                    190248               124752   \n",
       "3                    1                    114752               100248   \n",
       "\n",
       "  order_shipment_status order_shipment_delivery_status  rate              tags  \n",
       "2             delivered                      delivered     5  [1, 2, 3, 4, 11]  \n",
       "3             delivered                      delivered     5  [1, 2, 3, 4, 11]  "
      ]
     },
     "execution_count": 31,
     "metadata": {},
     "output_type": "execute_result"
    }
   ],
   "source": [
    "user_orders_df"
   ]
  },
  {
   "cell_type": "code",
   "execution_count": 32,
   "id": "daa02ef5",
   "metadata": {},
   "outputs": [],
   "source": [
    "user_orders_df = user_orders_df.drop_duplicates(subset='order_id', keep='last')"
   ]
  },
  {
   "cell_type": "code",
   "execution_count": 33,
   "id": "7fa76b0b",
   "metadata": {},
   "outputs": [],
   "source": [
    "top_bought_shops = user_orders_df.groupby(['shop_id']).size().to_frame('n_buy').reset_index()"
   ]
  },
  {
   "cell_type": "code",
   "execution_count": 34,
   "id": "3c92ddbb",
   "metadata": {},
   "outputs": [
    {
     "data": {
      "text/html": [
       "<div>\n",
       "<style scoped>\n",
       "    .dataframe tbody tr th:only-of-type {\n",
       "        vertical-align: middle;\n",
       "    }\n",
       "\n",
       "    .dataframe tbody tr th {\n",
       "        vertical-align: top;\n",
       "    }\n",
       "\n",
       "    .dataframe thead th {\n",
       "        text-align: right;\n",
       "    }\n",
       "</style>\n",
       "<table border=\"1\" class=\"dataframe\">\n",
       "  <thead>\n",
       "    <tr style=\"text-align: right;\">\n",
       "      <th></th>\n",
       "      <th>shop_id</th>\n",
       "      <th>n_buy</th>\n",
       "    </tr>\n",
       "  </thead>\n",
       "  <tbody>\n",
       "    <tr>\n",
       "      <th>0</th>\n",
       "      <td>358</td>\n",
       "      <td>1</td>\n",
       "    </tr>\n",
       "  </tbody>\n",
       "</table>\n",
       "</div>"
      ],
      "text/plain": [
       "   shop_id  n_buy\n",
       "0      358      1"
      ]
     },
     "execution_count": 34,
     "metadata": {},
     "output_type": "execute_result"
    }
   ],
   "source": [
    "top_bought_shops"
   ]
  },
  {
   "cell_type": "markdown",
   "id": "ebff283c",
   "metadata": {},
   "source": [
    "### Combine Scores"
   ]
  },
  {
   "cell_type": "code",
   "execution_count": 35,
   "id": "ea642d56",
   "metadata": {},
   "outputs": [],
   "source": [
    "top_user_rated_shops = user_orders_df.groupby(['shop_id']).rate.mean().to_frame().reset_index()"
   ]
  },
  {
   "cell_type": "code",
   "execution_count": 36,
   "id": "d629ca82",
   "metadata": {},
   "outputs": [
    {
     "data": {
      "text/html": [
       "<div>\n",
       "<style scoped>\n",
       "    .dataframe tbody tr th:only-of-type {\n",
       "        vertical-align: middle;\n",
       "    }\n",
       "\n",
       "    .dataframe tbody tr th {\n",
       "        vertical-align: top;\n",
       "    }\n",
       "\n",
       "    .dataframe thead th {\n",
       "        text-align: right;\n",
       "    }\n",
       "</style>\n",
       "<table border=\"1\" class=\"dataframe\">\n",
       "  <thead>\n",
       "    <tr style=\"text-align: right;\">\n",
       "      <th></th>\n",
       "      <th>shop_id</th>\n",
       "      <th>rate</th>\n",
       "    </tr>\n",
       "  </thead>\n",
       "  <tbody>\n",
       "    <tr>\n",
       "      <th>0</th>\n",
       "      <td>358</td>\n",
       "      <td>5</td>\n",
       "    </tr>\n",
       "  </tbody>\n",
       "</table>\n",
       "</div>"
      ],
      "text/plain": [
       "   shop_id  rate\n",
       "0      358     5"
      ]
     },
     "execution_count": 36,
     "metadata": {},
     "output_type": "execute_result"
    }
   ],
   "source": [
    "top_user_rated_shops"
   ]
  },
  {
   "cell_type": "code",
   "execution_count": 37,
   "id": "6808573e",
   "metadata": {},
   "outputs": [],
   "source": [
    "shop_scores = pd.merge(top_rated_shops_df, top_user_rated_shops, on=['shop_id'], how='outer',\n",
    "                       suffixes=('_all', '_user'))\n",
    "shop_scores = pd.merge(shop_scores, top_bought_shops, on=['shop_id'], how='outer')"
   ]
  },
  {
   "cell_type": "code",
   "execution_count": 38,
   "id": "6b49b860",
   "metadata": {},
   "outputs": [],
   "source": [
    "average_shop_rate = shop_scores.rate_all.mean()"
   ]
  },
  {
   "cell_type": "code",
   "execution_count": 39,
   "id": "43651aaf",
   "metadata": {},
   "outputs": [],
   "source": [
    "shop_scores.rate_user = shop_scores.rate_user.fillna(average_shop_rate)"
   ]
  },
  {
   "cell_type": "code",
   "execution_count": 40,
   "id": "ae497d96",
   "metadata": {},
   "outputs": [
    {
     "data": {
      "text/plain": [
       "3.6244964604783667"
      ]
     },
     "execution_count": 40,
     "metadata": {},
     "output_type": "execute_result"
    }
   ],
   "source": [
    "average_shop_rate"
   ]
  },
  {
   "cell_type": "code",
   "execution_count": 41,
   "id": "e786735e",
   "metadata": {},
   "outputs": [],
   "source": [
    "shop_scores.n_buy = shop_scores.n_buy.fillna(0)"
   ]
  },
  {
   "cell_type": "code",
   "execution_count": 42,
   "id": "b68e4cb2",
   "metadata": {},
   "outputs": [
    {
     "data": {
      "text/plain": [
       "Index(['shop_id', 'n_buy'], dtype='object')"
      ]
     },
     "execution_count": 42,
     "metadata": {},
     "output_type": "execute_result"
    }
   ],
   "source": [
    "top_bought_shops.columns"
   ]
  },
  {
   "cell_type": "code",
   "execution_count": 43,
   "id": "f9c2f26c",
   "metadata": {},
   "outputs": [],
   "source": [
    "shop_scores[['total_score']] = shop_scores.rate_user + shop_scores.n_buy"
   ]
  },
  {
   "cell_type": "code",
   "execution_count": 44,
   "id": "54d3a26d",
   "metadata": {},
   "outputs": [
    {
     "data": {
      "text/html": [
       "<div>\n",
       "<style scoped>\n",
       "    .dataframe tbody tr th:only-of-type {\n",
       "        vertical-align: middle;\n",
       "    }\n",
       "\n",
       "    .dataframe tbody tr th {\n",
       "        vertical-align: top;\n",
       "    }\n",
       "\n",
       "    .dataframe thead th {\n",
       "        text-align: right;\n",
       "    }\n",
       "</style>\n",
       "<table border=\"1\" class=\"dataframe\">\n",
       "  <thead>\n",
       "    <tr style=\"text-align: right;\">\n",
       "      <th></th>\n",
       "      <th>shop_id</th>\n",
       "      <th>n_buy</th>\n",
       "    </tr>\n",
       "  </thead>\n",
       "  <tbody>\n",
       "    <tr>\n",
       "      <th>0</th>\n",
       "      <td>358</td>\n",
       "      <td>1</td>\n",
       "    </tr>\n",
       "  </tbody>\n",
       "</table>\n",
       "</div>"
      ],
      "text/plain": [
       "   shop_id  n_buy\n",
       "0      358      1"
      ]
     },
     "execution_count": 44,
     "metadata": {},
     "output_type": "execute_result"
    }
   ],
   "source": [
    "top_bought_shops.rename({top_bought_shops.columns[1]: 'n_buy'})"
   ]
  },
  {
   "cell_type": "code",
   "execution_count": 45,
   "id": "87be2b9e",
   "metadata": {},
   "outputs": [],
   "source": [
    "shop_scores = shop_scores.sort_values(by='total_score', ascending=False).reset_index()"
   ]
  },
  {
   "cell_type": "code",
   "execution_count": 46,
   "id": "82f75ae8",
   "metadata": {},
   "outputs": [
    {
     "data": {
      "text/html": [
       "<div>\n",
       "<style scoped>\n",
       "    .dataframe tbody tr th:only-of-type {\n",
       "        vertical-align: middle;\n",
       "    }\n",
       "\n",
       "    .dataframe tbody tr th {\n",
       "        vertical-align: top;\n",
       "    }\n",
       "\n",
       "    .dataframe thead th {\n",
       "        text-align: right;\n",
       "    }\n",
       "</style>\n",
       "<table border=\"1\" class=\"dataframe\">\n",
       "  <thead>\n",
       "    <tr style=\"text-align: right;\">\n",
       "      <th></th>\n",
       "      <th>index</th>\n",
       "      <th>shop_id</th>\n",
       "      <th>rate_all</th>\n",
       "      <th>rate_user</th>\n",
       "      <th>n_buy</th>\n",
       "      <th>total_score</th>\n",
       "    </tr>\n",
       "  </thead>\n",
       "  <tbody>\n",
       "    <tr>\n",
       "      <th>0</th>\n",
       "      <td>2</td>\n",
       "      <td>358</td>\n",
       "      <td>4.393332</td>\n",
       "      <td>5.000000</td>\n",
       "      <td>1.0</td>\n",
       "      <td>6.000000</td>\n",
       "    </tr>\n",
       "    <tr>\n",
       "      <th>1</th>\n",
       "      <td>0</td>\n",
       "      <td>1545</td>\n",
       "      <td>5.000000</td>\n",
       "      <td>3.624496</td>\n",
       "      <td>0.0</td>\n",
       "      <td>3.624496</td>\n",
       "    </tr>\n",
       "    <tr>\n",
       "      <th>2</th>\n",
       "      <td>1</td>\n",
       "      <td>1649</td>\n",
       "      <td>4.857143</td>\n",
       "      <td>3.624496</td>\n",
       "      <td>0.0</td>\n",
       "      <td>3.624496</td>\n",
       "    </tr>\n",
       "    <tr>\n",
       "      <th>3</th>\n",
       "      <td>3</td>\n",
       "      <td>1653</td>\n",
       "      <td>4.100000</td>\n",
       "      <td>3.624496</td>\n",
       "      <td>0.0</td>\n",
       "      <td>3.624496</td>\n",
       "    </tr>\n",
       "    <tr>\n",
       "      <th>4</th>\n",
       "      <td>4</td>\n",
       "      <td>615</td>\n",
       "      <td>3.856306</td>\n",
       "      <td>3.624496</td>\n",
       "      <td>0.0</td>\n",
       "      <td>3.624496</td>\n",
       "    </tr>\n",
       "    <tr>\n",
       "      <th>5</th>\n",
       "      <td>5</td>\n",
       "      <td>324</td>\n",
       "      <td>3.750515</td>\n",
       "      <td>3.624496</td>\n",
       "      <td>0.0</td>\n",
       "      <td>3.624496</td>\n",
       "    </tr>\n",
       "    <tr>\n",
       "      <th>6</th>\n",
       "      <td>6</td>\n",
       "      <td>451</td>\n",
       "      <td>3.635135</td>\n",
       "      <td>3.624496</td>\n",
       "      <td>0.0</td>\n",
       "      <td>3.624496</td>\n",
       "    </tr>\n",
       "    <tr>\n",
       "      <th>7</th>\n",
       "      <td>7</td>\n",
       "      <td>321</td>\n",
       "      <td>3.484043</td>\n",
       "      <td>3.624496</td>\n",
       "      <td>0.0</td>\n",
       "      <td>3.624496</td>\n",
       "    </tr>\n",
       "    <tr>\n",
       "      <th>8</th>\n",
       "      <td>8</td>\n",
       "      <td>323</td>\n",
       "      <td>3.268456</td>\n",
       "      <td>3.624496</td>\n",
       "      <td>0.0</td>\n",
       "      <td>3.624496</td>\n",
       "    </tr>\n",
       "    <tr>\n",
       "      <th>9</th>\n",
       "      <td>9</td>\n",
       "      <td>1682</td>\n",
       "      <td>3.222222</td>\n",
       "      <td>3.624496</td>\n",
       "      <td>0.0</td>\n",
       "      <td>3.624496</td>\n",
       "    </tr>\n",
       "    <tr>\n",
       "      <th>10</th>\n",
       "      <td>10</td>\n",
       "      <td>664</td>\n",
       "      <td>2.926804</td>\n",
       "      <td>3.624496</td>\n",
       "      <td>0.0</td>\n",
       "      <td>3.624496</td>\n",
       "    </tr>\n",
       "    <tr>\n",
       "      <th>11</th>\n",
       "      <td>11</td>\n",
       "      <td>970</td>\n",
       "      <td>1.000000</td>\n",
       "      <td>3.624496</td>\n",
       "      <td>0.0</td>\n",
       "      <td>3.624496</td>\n",
       "    </tr>\n",
       "  </tbody>\n",
       "</table>\n",
       "</div>"
      ],
      "text/plain": [
       "    index  shop_id  rate_all  rate_user  n_buy  total_score\n",
       "0       2      358  4.393332   5.000000    1.0     6.000000\n",
       "1       0     1545  5.000000   3.624496    0.0     3.624496\n",
       "2       1     1649  4.857143   3.624496    0.0     3.624496\n",
       "3       3     1653  4.100000   3.624496    0.0     3.624496\n",
       "4       4      615  3.856306   3.624496    0.0     3.624496\n",
       "5       5      324  3.750515   3.624496    0.0     3.624496\n",
       "6       6      451  3.635135   3.624496    0.0     3.624496\n",
       "7       7      321  3.484043   3.624496    0.0     3.624496\n",
       "8       8      323  3.268456   3.624496    0.0     3.624496\n",
       "9       9     1682  3.222222   3.624496    0.0     3.624496\n",
       "10     10      664  2.926804   3.624496    0.0     3.624496\n",
       "11     11      970  1.000000   3.624496    0.0     3.624496"
      ]
     },
     "execution_count": 46,
     "metadata": {},
     "output_type": "execute_result"
    }
   ],
   "source": [
    "shop_scores"
   ]
  },
  {
   "cell_type": "markdown",
   "id": "4ccafc3b",
   "metadata": {},
   "source": [
    "### Output"
   ]
  },
  {
   "cell_type": "code",
   "execution_count": 47,
   "id": "b0c2cf9a",
   "metadata": {},
   "outputs": [],
   "source": [
    "shop_ids = shop_scores.shop_id.tolist()"
   ]
  },
  {
   "cell_type": "code",
   "execution_count": 48,
   "id": "d8719606",
   "metadata": {},
   "outputs": [
    {
     "data": {
      "text/plain": [
       "[358, 1545, 1649, 1653, 615, 324, 451, 321, 323, 1682, 664, 970]"
      ]
     },
     "execution_count": 48,
     "metadata": {},
     "output_type": "execute_result"
    }
   ],
   "source": [
    "shop_ids"
   ]
  }
 ],
 "metadata": {
  "kernelspec": {
   "display_name": "3.9.4",
   "language": "python",
   "name": "3.9.4"
  },
  "language_info": {
   "codemirror_mode": {
    "name": "ipython",
    "version": 3
   },
   "file_extension": ".py",
   "mimetype": "text/x-python",
   "name": "python",
   "nbconvert_exporter": "python",
   "pygments_lexer": "ipython3",
   "version": "3.9.4"
  }
 },
 "nbformat": 4,
 "nbformat_minor": 5
}
