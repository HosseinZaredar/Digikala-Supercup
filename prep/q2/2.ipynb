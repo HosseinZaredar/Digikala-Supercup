{
 "cells": [
  {
   "cell_type": "markdown",
   "id": "081ce3d5",
   "metadata": {},
   "source": [
    "### Load Dataset"
   ]
  },
  {
   "cell_type": "code",
   "execution_count": 1,
   "id": "c30964b1",
   "metadata": {},
   "outputs": [],
   "source": [
    "import torch as T\n",
    "import os\n",
    "import numpy as np"
   ]
  },
  {
   "cell_type": "code",
   "execution_count": 2,
   "id": "e7262876",
   "metadata": {},
   "outputs": [],
   "source": [
    "pos_dir = './dataset/train/positive/'\n",
    "neg_dir = './dataset/train/negative/'"
   ]
  },
  {
   "cell_type": "code",
   "execution_count": 3,
   "id": "263baa1d",
   "metadata": {},
   "outputs": [],
   "source": [
    "images = []"
   ]
  },
  {
   "cell_type": "code",
   "execution_count": 4,
   "id": "89b4fbf1",
   "metadata": {},
   "outputs": [],
   "source": [
    "for pos_img in os.listdir(pos_dir):\n",
    "    images.append(pos_dir + pos_img)"
   ]
  },
  {
   "cell_type": "code",
   "execution_count": 5,
   "id": "758f3798",
   "metadata": {},
   "outputs": [],
   "source": [
    "for neg_img in os.listdir(neg_dir):\n",
    "    images.append(neg_dir + neg_img)"
   ]
  },
  {
   "cell_type": "code",
   "execution_count": 6,
   "id": "96c0dc4e",
   "metadata": {},
   "outputs": [],
   "source": [
    "labels = len(os.listdir(pos_dir)) * [1] + len(os.listdir(neg_dir)) * [0]"
   ]
  },
  {
   "cell_type": "markdown",
   "id": "7598dad6",
   "metadata": {},
   "source": [
    "### Calculate Means & Stds"
   ]
  },
  {
   "cell_type": "code",
   "execution_count": 7,
   "id": "6fc80bc0",
   "metadata": {},
   "outputs": [],
   "source": [
    "from PIL import Image"
   ]
  },
  {
   "cell_type": "code",
   "execution_count": 8,
   "id": "7ddec675",
   "metadata": {},
   "outputs": [],
   "source": [
    "img_size = 224"
   ]
  },
  {
   "cell_type": "code",
   "execution_count": 9,
   "id": "e2d5e769",
   "metadata": {},
   "outputs": [],
   "source": [
    "means = []\n",
    "stds = []\n",
    "\n",
    "for image in images:\n",
    "    \n",
    "    image = Image.open(image)\n",
    "    image = image.convert('RGB')\n",
    "    image = image.resize((img_size, img_size))\n",
    "    image = np.array(image) / 255\n",
    "    image = image.transpose((2, 0, 1)).reshape((3, img_size*img_size))\n",
    "    \n",
    "    means.append(np.mean(image, axis=1))\n",
    "    stds.append(np.std(image, axis=1))"
   ]
  },
  {
   "cell_type": "code",
   "execution_count": 10,
   "id": "3f8d3cca",
   "metadata": {},
   "outputs": [],
   "source": [
    "mean = np.mean(np.array(means), axis=0)\n",
    "std = np.mean(np.array(stds), axis=0)"
   ]
  },
  {
   "cell_type": "code",
   "execution_count": 11,
   "id": "fb7712b3",
   "metadata": {},
   "outputs": [
    {
     "name": "stdout",
     "output_type": "stream",
     "text": [
      "[0.80289211 0.78376652 0.77243479] [0.23013637 0.24434427 0.25245189]\n"
     ]
    }
   ],
   "source": [
    "print(mean, std)"
   ]
  },
  {
   "cell_type": "markdown",
   "id": "86d9b91b",
   "metadata": {},
   "source": [
    "### Train-Validation Split"
   ]
  },
  {
   "cell_type": "code",
   "execution_count": 12,
   "id": "5df8e663",
   "metadata": {},
   "outputs": [],
   "source": [
    "import math"
   ]
  },
  {
   "cell_type": "code",
   "execution_count": 13,
   "id": "fe1fe713",
   "metadata": {},
   "outputs": [],
   "source": [
    "np.random.seed(0)"
   ]
  },
  {
   "cell_type": "code",
   "execution_count": 14,
   "id": "303e08e0",
   "metadata": {},
   "outputs": [],
   "source": [
    "dataset_len = len(labels)\n",
    "\n",
    "indices = np.arange(dataset_len)\n",
    "np.random.shuffle(indices)\n",
    "\n",
    "train_idx = indices[:math.floor(0.9*dataset_len)]\n",
    "val_idx = indices[math.floor(0.9*dataset_len):]"
   ]
  },
  {
   "cell_type": "code",
   "execution_count": 15,
   "id": "57cc13b2",
   "metadata": {},
   "outputs": [],
   "source": [
    "val_images = [images[i] for i in val_idx]\n",
    "val_labels = [labels[i] for i in val_idx]"
   ]
  },
  {
   "cell_type": "code",
   "execution_count": 16,
   "id": "bfc1b2ce",
   "metadata": {},
   "outputs": [],
   "source": [
    "train_images = [images[i] for i in train_idx]\n",
    "train_labels = [labels[i] for i in train_idx]"
   ]
  },
  {
   "cell_type": "markdown",
   "id": "c519231c",
   "metadata": {},
   "source": [
    "### Create PyTorch Loaders"
   ]
  },
  {
   "cell_type": "code",
   "execution_count": 17,
   "id": "cf19516a",
   "metadata": {},
   "outputs": [],
   "source": [
    "from torch.utils.data import DataLoader, Dataset\n",
    "from torchvision import transforms\n",
    "import matplotlib.pyplot as plt"
   ]
  },
  {
   "cell_type": "code",
   "execution_count": 18,
   "id": "6d46d5ad",
   "metadata": {},
   "outputs": [],
   "source": [
    "class DigikalaDataset(Dataset):\n",
    "    def __init__(self, images, labels):\n",
    "        self.images = images\n",
    "        self.labels = labels\n",
    "        \n",
    "        self.transform = transforms.Compose([\n",
    "            transforms.RandomHorizontalFlip(),\n",
    "            transforms.Normalize((0.80289211, 0.78376652, 0.77243479), (0.23013637, 0.24434427, 0.25245189)),\n",
    "        ])\n",
    "    \n",
    "    def __len__(self):\n",
    "        return len(self.labels)\n",
    "    \n",
    "    def __getitem__(self, index):\n",
    "        \n",
    "        image = Image.open(self.images[index])\n",
    "        image = image.convert('RGB')\n",
    "        image = image.resize((img_size, img_size))\n",
    "        image = np.array(image) / 255\n",
    "        image = image.transpose((2, 0, 1))\n",
    "        image = T.tensor(image, dtype=T.float32)\n",
    "        image = self.transform(image)\n",
    "        \n",
    "        label = self.labels[index]\n",
    "        label = T.tensor(label, dtype=T.float32)\n",
    "        \n",
    "        return image, label"
   ]
  },
  {
   "cell_type": "code",
   "execution_count": 19,
   "id": "f4fc2d35",
   "metadata": {},
   "outputs": [],
   "source": [
    "def get_loader(images, labels, batch_size=32, shuffle=True):\n",
    "    dataset = DigikalaDataset(images, labels)\n",
    "    loader = DataLoader(dataset=dataset, batch_size=batch_size, shuffle=shuffle)\n",
    "    return loader"
   ]
  },
  {
   "cell_type": "code",
   "execution_count": 20,
   "id": "d25ffa4e",
   "metadata": {},
   "outputs": [],
   "source": [
    "train_loader = get_loader(train_images, train_labels, batch_size=25)\n",
    "val_loader = get_loader(val_images, val_labels, batch_size=5)"
   ]
  },
  {
   "cell_type": "markdown",
   "id": "a1b002a0",
   "metadata": {},
   "source": [
    "### Define The Model"
   ]
  },
  {
   "cell_type": "code",
   "execution_count": 21,
   "id": "c77a6e91",
   "metadata": {},
   "outputs": [],
   "source": [
    "import torch.nn as nn"
   ]
  },
  {
   "cell_type": "code",
   "execution_count": 22,
   "id": "baec2655",
   "metadata": {},
   "outputs": [
    {
     "name": "stderr",
     "output_type": "stream",
     "text": [
      "Using cache found in /home/hossein/.cache/torch/hub/NVIDIA_DeepLearningExamples_torchhub\n",
      "/home/hossein/.cache/torch/hub/NVIDIA_DeepLearningExamples_torchhub/PyTorch/Classification/ConvNets/image_classification/models/common.py:13: UserWarning: pytorch_quantization module not found, quantization will not be available\n",
      "  warnings.warn(\n",
      "/home/hossein/.cache/torch/hub/NVIDIA_DeepLearningExamples_torchhub/PyTorch/Classification/ConvNets/image_classification/models/efficientnet.py:17: UserWarning: pytorch_quantization module not found, quantization will not be available\n",
      "  warnings.warn(\n"
     ]
    }
   ],
   "source": [
    "model = T.hub.load('NVIDIA/DeepLearningExamples:torchhub', 'nvidia_efficientnet_b0', pretrained=True)"
   ]
  },
  {
   "cell_type": "code",
   "execution_count": 23,
   "id": "ad5f4786",
   "metadata": {},
   "outputs": [],
   "source": [
    "model.classifier.fc = nn.Linear(1280, 1)"
   ]
  },
  {
   "cell_type": "markdown",
   "id": "df7f4f45",
   "metadata": {},
   "source": [
    "### Train The Model"
   ]
  },
  {
   "cell_type": "code",
   "execution_count": 24,
   "id": "ae7cca0c",
   "metadata": {},
   "outputs": [],
   "source": [
    "import torch.optim as optim\n",
    "import time"
   ]
  },
  {
   "cell_type": "code",
   "execution_count": 25,
   "id": "89d662dd",
   "metadata": {},
   "outputs": [],
   "source": [
    "optimizer = optim.Adam(model.parameters())\n",
    "criterion = nn.BCEWithLogitsLoss()"
   ]
  },
  {
   "cell_type": "code",
   "execution_count": 26,
   "id": "25bc6d2d",
   "metadata": {},
   "outputs": [],
   "source": [
    "device = 'cuda'\n",
    "criterion = criterion.to(device)\n",
    "model = model.to(device)"
   ]
  },
  {
   "cell_type": "code",
   "execution_count": 27,
   "id": "3499c2f0",
   "metadata": {},
   "outputs": [],
   "source": [
    "def binary_accuracy(preds, y):\n",
    "    rounded_preds = T.round(T.sigmoid(preds))\n",
    "    correct = (rounded_preds == y).float() \n",
    "    acc = correct.sum() / len(correct)\n",
    "    return acc"
   ]
  },
  {
   "cell_type": "code",
   "execution_count": 28,
   "id": "d65d05bb",
   "metadata": {},
   "outputs": [],
   "source": [
    "def train(model, iterator, optimizer, criterion):\n",
    "    \n",
    "    epoch_loss = 0\n",
    "    epoch_acc = 0\n",
    "    \n",
    "    model.train()\n",
    "        \n",
    "    for i, (imgs, lbs) in enumerate(iterator):\n",
    "        \n",
    "        if i % 100 == 0:\n",
    "            print(f'    mini-batch {i}')\n",
    "        \n",
    "        optimizer.zero_grad()\n",
    "        \n",
    "        imgs = imgs.to(device)\n",
    "        lbs = lbs.to(device)\n",
    "        \n",
    "        predictions = model(imgs).squeeze()\n",
    "        loss = criterion(predictions, lbs)\n",
    "        acc = binary_accuracy(predictions, lbs)\n",
    "        \n",
    "        loss.backward()\n",
    "        \n",
    "        optimizer.step()\n",
    "        \n",
    "        epoch_loss += loss.item() * len(lbs)\n",
    "        epoch_acc += acc.item() * len(lbs)\n",
    "                \n",
    "    return epoch_loss / len(iterator.dataset), epoch_acc / len(iterator.dataset)"
   ]
  },
  {
   "cell_type": "code",
   "execution_count": 29,
   "id": "bde7a30e",
   "metadata": {},
   "outputs": [],
   "source": [
    "def evaluate(model, iterator, criterion):\n",
    "    \n",
    "    epoch_loss = 0\n",
    "    epoch_acc = 0\n",
    "    \n",
    "    model.eval()\n",
    "        \n",
    "    for i, (imgs, lbs) in enumerate(iterator):\n",
    "        \n",
    "        imgs = imgs.to(device)\n",
    "        lbs = lbs.to(device)\n",
    "        \n",
    "        predictions = model(imgs).squeeze()\n",
    "        loss = criterion(predictions, lbs)\n",
    "        acc = binary_accuracy(predictions, lbs)\n",
    "        \n",
    "        epoch_loss += loss.item() * len(lbs)\n",
    "        epoch_acc += acc.item() * len(lbs)\n",
    "                \n",
    "    return epoch_loss / len(iterator.dataset), epoch_acc / len(iterator.dataset)"
   ]
  },
  {
   "cell_type": "code",
   "execution_count": 30,
   "id": "d5daa6f9",
   "metadata": {},
   "outputs": [],
   "source": [
    "def epoch_time(start_time, end_time):\n",
    "    elapsed_time = end_time - start_time\n",
    "    elapsed_mins = int(elapsed_time / 60)\n",
    "    elapsed_secs = int(elapsed_time - (elapsed_mins * 60))\n",
    "    return elapsed_mins, elapsed_secs"
   ]
  },
  {
   "cell_type": "code",
   "execution_count": 31,
   "id": "8dd61d6c",
   "metadata": {},
   "outputs": [
    {
     "name": "stdout",
     "output_type": "stream",
     "text": [
      "Epoch: 1\n",
      "    mini-batch 0\n",
      "    mini-batch 100\n",
      "    mini-batch 200\n",
      "    mini-batch 300\n",
      "Epoch Time: 2m 56s\n",
      "    Train Loss: 0.336 | Train Acc: 86.59%\n",
      "     Val. Loss: 0.308 |  Val. Acc: 89.64%\n",
      "\n",
      "Epoch: 2\n",
      "    mini-batch 0\n",
      "    mini-batch 100\n",
      "    mini-batch 200\n",
      "    mini-batch 300\n",
      "Epoch Time: 3m 3s\n",
      "    Train Loss: 0.263 | Train Acc: 90.28%\n",
      "     Val. Loss: 0.649 |  Val. Acc: 78.58%\n",
      "\n",
      "Epoch: 3\n",
      "    mini-batch 0\n",
      "    mini-batch 100\n",
      "    mini-batch 200\n",
      "    mini-batch 300\n",
      "Epoch Time: 3m 5s\n",
      "    Train Loss: 0.228 | Train Acc: 91.49%\n",
      "     Val. Loss: 0.290 |  Val. Acc: 89.99%\n",
      "\n",
      "Epoch: 4\n",
      "    mini-batch 0\n",
      "    mini-batch 100\n",
      "    mini-batch 200\n",
      "    mini-batch 300\n",
      "Epoch Time: 2m 58s\n",
      "    Train Loss: 0.197 | Train Acc: 93.20%\n",
      "     Val. Loss: 0.314 |  Val. Acc: 91.50%\n",
      "\n"
     ]
    }
   ],
   "source": [
    "N_EPOCHS = 4\n",
    "\n",
    "for epoch in range(N_EPOCHS):\n",
    "\n",
    "    print(f'Epoch: {epoch+1}')\n",
    "    \n",
    "    start_time = time.time()\n",
    "    \n",
    "    train_loss, train_acc = train(model, train_loader, optimizer, criterion)\n",
    "    valid_loss, valid_acc = evaluate(model, val_loader, criterion)\n",
    "    \n",
    "    end_time = time.time()\n",
    "\n",
    "    epoch_mins, epoch_secs = epoch_time(start_time, end_time)\n",
    "       \n",
    "    print(f'Epoch Time: {epoch_mins}m {epoch_secs}s')\n",
    "    print(f'    Train Loss: {train_loss:.3f} | Train Acc: {train_acc*100:.2f}%')\n",
    "    print(f'     Val. Loss: {valid_loss:.3f} |  Val. Acc: {valid_acc*100:.2f}%')\n",
    "    print()"
   ]
  },
  {
   "cell_type": "code",
   "execution_count": 29,
   "id": "d637fd5a",
   "metadata": {},
   "outputs": [],
   "source": [
    "del model\n",
    "T.cuda.empty_cache()"
   ]
  },
  {
   "cell_type": "markdown",
   "id": "82396807",
   "metadata": {},
   "source": [
    "### Saving The Model"
   ]
  },
  {
   "cell_type": "code",
   "execution_count": 69,
   "id": "cb7683da",
   "metadata": {},
   "outputs": [],
   "source": [
    "T.save(model.state_dict(), 'eff_91.torch')"
   ]
  },
  {
   "cell_type": "markdown",
   "id": "29d46c17",
   "metadata": {},
   "source": [
    "### Loading The Model"
   ]
  },
  {
   "cell_type": "code",
   "execution_count": null,
   "id": "277143f9",
   "metadata": {},
   "outputs": [],
   "source": [
    "model = T.hub.load('NVIDIA/DeepLearningExamples:torchhub', 'nvidia_efficientnet_b0', pretrained=False)\n",
    "model.classifier.fc = nn.Linear(1280, 1)\n",
    "model.load_state_dict(T.load('eff_91.torch'))"
   ]
  },
  {
   "cell_type": "markdown",
   "id": "004ae560",
   "metadata": {},
   "source": [
    "### Loading Test Data"
   ]
  },
  {
   "cell_type": "code",
   "execution_count": 70,
   "id": "cf3a42a0",
   "metadata": {},
   "outputs": [],
   "source": [
    "test_dir = './dataset/test/'"
   ]
  },
  {
   "cell_type": "code",
   "execution_count": 71,
   "id": "03192143",
   "metadata": {},
   "outputs": [],
   "source": [
    "test_images = []\n",
    "for test_img in os.listdir(test_dir):\n",
    "    test_images.append(test_dir + test_img)"
   ]
  },
  {
   "cell_type": "code",
   "execution_count": 72,
   "id": "61e23e66",
   "metadata": {},
   "outputs": [],
   "source": [
    "test_labels = len(os.listdir(test_dir)) * [0]"
   ]
  },
  {
   "cell_type": "code",
   "execution_count": 73,
   "id": "218f4e26",
   "metadata": {},
   "outputs": [],
   "source": [
    "test_loader = get_loader(test_images, test_labels, batch_size=5, shuffle=False)"
   ]
  },
  {
   "cell_type": "markdown",
   "id": "0397d9dc",
   "metadata": {},
   "source": [
    "### Predicting"
   ]
  },
  {
   "cell_type": "code",
   "execution_count": 74,
   "id": "08e18f87",
   "metadata": {},
   "outputs": [],
   "source": [
    "def predict(model, iterator):\n",
    "    \n",
    "    model.eval()\n",
    "    \n",
    "    preds = []\n",
    "    \n",
    "    with T.no_grad():\n",
    "        for i, (imgs, lbs) in enumerate(iterator):\n",
    "\n",
    "            imgs = imgs.to(device)        \n",
    "            predictions = model(imgs).squeeze()\n",
    "            binary_predictions = T.round(T.sigmoid(predictions))\n",
    "            preds += binary_predictions.tolist()\n",
    "        \n",
    "    return preds"
   ]
  },
  {
   "cell_type": "code",
   "execution_count": 75,
   "id": "2bfc5f2a",
   "metadata": {},
   "outputs": [],
   "source": [
    "preds = predict(model, test_loader)"
   ]
  },
  {
   "cell_type": "code",
   "execution_count": 76,
   "id": "2d024940",
   "metadata": {},
   "outputs": [],
   "source": [
    "preds = [int(p) for p in preds]"
   ]
  },
  {
   "cell_type": "markdown",
   "id": "a3ccb8b2",
   "metadata": {},
   "source": [
    "### Saving to File"
   ]
  },
  {
   "cell_type": "code",
   "execution_count": 77,
   "id": "850c1a6d",
   "metadata": {},
   "outputs": [],
   "source": [
    "import pandas as pd"
   ]
  },
  {
   "cell_type": "code",
   "execution_count": 78,
   "id": "d73b7581",
   "metadata": {},
   "outputs": [],
   "source": [
    "pred_df = pd.DataFrame()"
   ]
  },
  {
   "cell_type": "code",
   "execution_count": 79,
   "id": "cb01a661",
   "metadata": {},
   "outputs": [],
   "source": [
    "pred_df['name'] = [t[len('./dataset/test/'):] for t in test_images]"
   ]
  },
  {
   "cell_type": "code",
   "execution_count": 80,
   "id": "d0c5ed74",
   "metadata": {},
   "outputs": [],
   "source": [
    "pred_df['predicted'] = preds"
   ]
  },
  {
   "cell_type": "code",
   "execution_count": 81,
   "id": "6629b8cc",
   "metadata": {},
   "outputs": [
    {
     "data": {
      "text/html": [
       "<div>\n",
       "<style scoped>\n",
       "    .dataframe tbody tr th:only-of-type {\n",
       "        vertical-align: middle;\n",
       "    }\n",
       "\n",
       "    .dataframe tbody tr th {\n",
       "        vertical-align: top;\n",
       "    }\n",
       "\n",
       "    .dataframe thead th {\n",
       "        text-align: right;\n",
       "    }\n",
       "</style>\n",
       "<table border=\"1\" class=\"dataframe\">\n",
       "  <thead>\n",
       "    <tr style=\"text-align: right;\">\n",
       "      <th></th>\n",
       "      <th>name</th>\n",
       "      <th>predicted</th>\n",
       "    </tr>\n",
       "  </thead>\n",
       "  <tbody>\n",
       "    <tr>\n",
       "      <th>0</th>\n",
       "      <td>2c039159-56fa-4798-b0a2-adeddd61c327.jpg</td>\n",
       "      <td>1</td>\n",
       "    </tr>\n",
       "    <tr>\n",
       "      <th>1</th>\n",
       "      <td>178c77d7-47f4-4790-850a-c873c8f05597.jpg</td>\n",
       "      <td>0</td>\n",
       "    </tr>\n",
       "    <tr>\n",
       "      <th>2</th>\n",
       "      <td>8da4b8e2-a41a-4a10-b2aa-9f9a4481e74a.jpg</td>\n",
       "      <td>1</td>\n",
       "    </tr>\n",
       "    <tr>\n",
       "      <th>3</th>\n",
       "      <td>038369e8-c33f-43b6-b71f-16a6fd75ec83.jpg</td>\n",
       "      <td>0</td>\n",
       "    </tr>\n",
       "    <tr>\n",
       "      <th>4</th>\n",
       "      <td>443ea086-4d3c-4e94-9107-22cc6d1a5b44.jpg</td>\n",
       "      <td>0</td>\n",
       "    </tr>\n",
       "  </tbody>\n",
       "</table>\n",
       "</div>"
      ],
      "text/plain": [
       "                                       name  predicted\n",
       "0  2c039159-56fa-4798-b0a2-adeddd61c327.jpg          1\n",
       "1  178c77d7-47f4-4790-850a-c873c8f05597.jpg          0\n",
       "2  8da4b8e2-a41a-4a10-b2aa-9f9a4481e74a.jpg          1\n",
       "3  038369e8-c33f-43b6-b71f-16a6fd75ec83.jpg          0\n",
       "4  443ea086-4d3c-4e94-9107-22cc6d1a5b44.jpg          0"
      ]
     },
     "execution_count": 81,
     "metadata": {},
     "output_type": "execute_result"
    }
   ],
   "source": [
    "pred_df.head(5)"
   ]
  },
  {
   "cell_type": "code",
   "execution_count": 82,
   "id": "ee75bdfa",
   "metadata": {},
   "outputs": [],
   "source": [
    "pred_df.to_csv('output.csv', index=False)"
   ]
  }
 ],
 "metadata": {
  "kernelspec": {
   "display_name": "3.9.4",
   "language": "python",
   "name": "3.9.4"
  },
  "language_info": {
   "codemirror_mode": {
    "name": "ipython",
    "version": 3
   },
   "file_extension": ".py",
   "mimetype": "text/x-python",
   "name": "python",
   "nbconvert_exporter": "python",
   "pygments_lexer": "ipython3",
   "version": "3.9.4"
  }
 },
 "nbformat": 4,
 "nbformat_minor": 5
}
